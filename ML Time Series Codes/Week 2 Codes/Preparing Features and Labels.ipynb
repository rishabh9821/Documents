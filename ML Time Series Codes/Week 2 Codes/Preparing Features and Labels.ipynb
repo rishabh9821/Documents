{
 "cells": [
  {
   "cell_type": "code",
   "execution_count": 2,
   "id": "b6664a9d",
   "metadata": {},
   "outputs": [
    {
     "name": "stdout",
     "output_type": "stream",
     "text": [
      "All Libraries Imported\n"
     ]
    }
   ],
   "source": [
    "import tensorflow as tf\n",
    "import matplotlib.pyplot as plt\n",
    "import numpy as np\n",
    "print('All Libraries Imported')"
   ]
  },
  {
   "cell_type": "code",
   "execution_count": 4,
   "id": "21450e31",
   "metadata": {},
   "outputs": [
    {
     "name": "stdout",
     "output_type": "stream",
     "text": [
      "0\n",
      "1\n",
      "2\n",
      "3\n",
      "4\n",
      "5\n",
      "6\n",
      "7\n",
      "8\n",
      "9\n"
     ]
    }
   ],
   "source": [
    "dataset = tf.data.Dataset.range(10)\n",
    "for val in dataset:\n",
    "    print(val.numpy())"
   ]
  },
  {
   "cell_type": "code",
   "execution_count": 9,
   "id": "82680621",
   "metadata": {},
   "outputs": [
    {
     "name": "stdout",
     "output_type": "stream",
     "text": [
      "0 1 2 3 4 \n",
      "\n",
      "1 2 3 4 5 \n",
      "\n",
      "2 3 4 5 6 \n",
      "\n",
      "3 4 5 6 7 \n",
      "\n",
      "4 5 6 7 8 \n",
      "\n",
      "5 6 7 8 9 \n",
      "\n",
      "6 7 8 9 \n",
      "\n",
      "7 8 9 \n",
      "\n",
      "8 9 \n",
      "\n",
      "9 \n",
      "\n"
     ]
    }
   ],
   "source": [
    "dataset = tf.data.Dataset.range(10)\n",
    "dataset = dataset.window(5, shift = 1)\n",
    "for window in dataset:\n",
    "    for vals in window:\n",
    "        print(vals.numpy(), end = \" \")\n",
    "    print('\\n')"
   ]
  },
  {
   "cell_type": "code",
   "execution_count": 13,
   "id": "8b934b70",
   "metadata": {},
   "outputs": [
    {
     "name": "stdout",
     "output_type": "stream",
     "text": [
      "0 1 2 3 4 \n",
      "\n",
      "1 2 3 4 5 \n",
      "\n",
      "2 3 4 5 6 \n",
      "\n",
      "3 4 5 6 7 \n",
      "\n",
      "4 5 6 7 8 \n",
      "\n",
      "5 6 7 8 9 \n",
      "\n"
     ]
    }
   ],
   "source": [
    "dataset = tf.data.Dataset.range(10)\n",
    "dataset = dataset.window(5, shift = 1, drop_remainder = True)\n",
    "#dataset = dataset.flat_map(lambda x: x.batch(5))\n",
    "for window in dataset:\n",
    "    for vals in window:\n",
    "        print(vals.numpy(), end = \" \")\n",
    "    print('\\n')"
   ]
  },
  {
   "cell_type": "code",
   "execution_count": 15,
   "id": "bcbdcd7f",
   "metadata": {},
   "outputs": [
    {
     "name": "stdout",
     "output_type": "stream",
     "text": [
      "[0 1 2 3] [4] \n",
      "\n",
      "[1 2 3 4] [5] \n",
      "\n",
      "[2 3 4 5] [6] \n",
      "\n",
      "[3 4 5 6] [7] \n",
      "\n",
      "[4 5 6 7] [8] \n",
      "\n",
      "[5 6 7 8] [9] \n",
      "\n"
     ]
    }
   ],
   "source": [
    "dataset = tf.data.Dataset.range(10)\n",
    "dataset = dataset.window(5, shift = 1, drop_remainder = True)\n",
    "dataset = dataset.flat_map(lambda x: x.batch(5))\n",
    "dataset = dataset.map(lambda window: (window[:-1], window[-1:]))\n",
    "for window in dataset:\n",
    "    for vals in window:\n",
    "        print(vals.numpy(), end = \" \")\n",
    "    print('\\n')"
   ]
  },
  {
   "cell_type": "code",
   "execution_count": 19,
   "id": "0b6fd3f6",
   "metadata": {},
   "outputs": [
    {
     "name": "stdout",
     "output_type": "stream",
     "text": [
      "[4 5 6 7] [8] \n",
      "\n",
      "[3 4 5 6] [7] \n",
      "\n",
      "[2 3 4 5] [6] \n",
      "\n",
      "[0 1 2 3] [4] \n",
      "\n",
      "[5 6 7 8] [9] \n",
      "\n",
      "[1 2 3 4] [5] \n",
      "\n"
     ]
    }
   ],
   "source": [
    "dataset = tf.data.Dataset.range(10)\n",
    "dataset = dataset.window(5, shift = 1, drop_remainder = True)\n",
    "dataset = dataset.flat_map(lambda x: x.batch(5))\n",
    "dataset = dataset.map(lambda window: (window[:-1], window[-1:]))\n",
    "dataset = dataset.shuffle(buffer_size = 10)\n",
    "for window in dataset:\n",
    "    for vals in window:\n",
    "        print(vals.numpy(), end = \" \")\n",
    "    print('\\n')"
   ]
  },
  {
   "cell_type": "code",
   "execution_count": 33,
   "id": "a2c6ec2a",
   "metadata": {},
   "outputs": [
    {
     "name": "stdout",
     "output_type": "stream",
     "text": [
      "X: [[5 6 7 8]\n",
      " [2 3 4 5]]\n",
      "Y: [[9]\n",
      " [6]]\n",
      "X: [[0 1 2 3]\n",
      " [3 4 5 6]]\n",
      "Y: [[4]\n",
      " [7]]\n",
      "X: [[4 5 6 7]\n",
      " [1 2 3 4]]\n",
      "Y: [[8]\n",
      " [5]]\n"
     ]
    }
   ],
   "source": [
    "dataset = tf.data.Dataset.range(10)\n",
    "dataset = dataset.window(5, shift = 1, drop_remainder = True)\n",
    "dataset = dataset.flat_map(lambda x: x.batch(5))\n",
    "dataset = dataset.map(lambda window: (window[:-1], window[-1:]))\n",
    "dataset = dataset.shuffle(buffer_size = 10)\n",
    "dataset = dataset.batch(2).prefetch(1)\n",
    "for x,y in dataset:\n",
    "    print(\"X:\",x.numpy())\n",
    "    print(\"Y:\",y.numpy())\n"
   ]
  },
  {
   "cell_type": "code",
   "execution_count": null,
   "id": "ea067b71",
   "metadata": {},
   "outputs": [],
   "source": []
  }
 ],
 "metadata": {
  "kernelspec": {
   "display_name": "Python 3",
   "language": "python",
   "name": "python3"
  },
  "language_info": {
   "codemirror_mode": {
    "name": "ipython",
    "version": 3
   },
   "file_extension": ".py",
   "mimetype": "text/x-python",
   "name": "python",
   "nbconvert_exporter": "python",
   "pygments_lexer": "ipython3",
   "version": "3.6.13"
  }
 },
 "nbformat": 4,
 "nbformat_minor": 5
}
