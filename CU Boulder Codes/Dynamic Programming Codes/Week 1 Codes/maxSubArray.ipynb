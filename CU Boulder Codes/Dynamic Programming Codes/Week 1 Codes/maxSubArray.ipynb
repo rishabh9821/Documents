{
 "cells": [
  {
   "cell_type": "code",
   "execution_count": 1,
   "metadata": {},
   "outputs": [],
   "source": [
    "import numpy as np\n",
    "def minFunc(a,b):\n",
    "    if a < b:\n",
    "        return a\n",
    "    else:\n",
    "        return b\n",
    "        \n",
    "def minElement(A, lowerIndex, upperIndex):\n",
    "    min = np.inf\n",
    "    for index in range(lowerIndex, upperIndex+1):\n",
    "        min = minFunc(min,A[index])\n",
    "    return min"
   ]
  },
  {
   "cell_type": "code",
   "execution_count": 2,
   "metadata": {},
   "outputs": [],
   "source": [
    "def maxFunc(a,b):\n",
    "    if a > b:\n",
    "        return a\n",
    "    else:\n",
    "        return b\n",
    "\n",
    "def maxElement(A,lowerIndex, upperIndex):\n",
    "    max = -np.inf\n",
    "    for index in range(lowerIndex,upperIndex+1):\n",
    "        max = maxFunc(max,A[index])\n",
    "    return max"
   ]
  },
  {
   "cell_type": "code",
   "execution_count": 6,
   "metadata": {},
   "outputs": [],
   "source": [
    "def maxSubArray(A, startPoint = 0, endPoint = None):\n",
    "    if endPoint == None:\n",
    "        endPoint = len(A) - 1\n",
    "    if (startPoint == endPoint):\n",
    "        return 0\n",
    "    elif (startPoint == endPoint - 1):\n",
    "        return (A[endPoint] - A[startPoint])\n",
    "    else:\n",
    "        middleIndex = (endPoint + startPoint) // 2\n",
    "        m1 = maxSubArray(A,startPoint = startPoint, endPoint = middleIndex)\n",
    "        m2 = maxSubArray(A, startPoint = middleIndex + 1, endPoint = endPoint)\n",
    "        minLeft = minElement(A, startPoint, middleIndex)\n",
    "        maxRight = maxElement(A, middleIndex + 1, endPoint)\n",
    "        actMax = maxFunc(maxFunc(m1,m2),(maxRight - minLeft))\n",
    "        return actMax"
   ]
  },
  {
   "cell_type": "code",
   "execution_count": 9,
   "metadata": {},
   "outputs": [
    {
     "data": {
      "text/plain": [
       "13"
      ]
     },
     "execution_count": 9,
     "metadata": {},
     "output_type": "execute_result"
    }
   ],
   "source": [
    "A = [2,3,2,8,15,7,-1,6]\n",
    "maxSubArray(A)"
   ]
  },
  {
   "cell_type": "code",
   "execution_count": null,
   "metadata": {},
   "outputs": [],
   "source": []
  }
 ],
 "metadata": {
  "kernelspec": {
   "display_name": "Python 3",
   "language": "python",
   "name": "python3"
  },
  "language_info": {
   "codemirror_mode": {
    "name": "ipython",
    "version": 3
   },
   "file_extension": ".py",
   "mimetype": "text/x-python",
   "name": "python",
   "nbconvert_exporter": "python",
   "pygments_lexer": "ipython3",
   "version": "3.8.8"
  }
 },
 "nbformat": 4,
 "nbformat_minor": 2
}
