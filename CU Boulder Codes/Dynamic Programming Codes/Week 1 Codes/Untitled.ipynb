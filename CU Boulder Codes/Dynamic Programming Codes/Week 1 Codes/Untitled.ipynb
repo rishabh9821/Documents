{
 "cells": [
  {
   "cell_type": "code",
   "execution_count": 3,
   "id": "eeffc0f4",
   "metadata": {},
   "outputs": [
    {
     "name": "stdout",
     "output_type": "stream",
     "text": [
      "2.23606797749979 1.1071487177940904\n"
     ]
    }
   ],
   "source": [
    "import cmath\n",
    "z1 = complex(1,2);\n",
    "(r1,ang1) = cmath.polar(z1)\n",
    "\n",
    "z4 = 1 - 2j;\n",
    "print(r1,ang1)"
   ]
  },
  {
   "cell_type": "code",
   "execution_count": 7,
   "id": "02e69d50",
   "metadata": {},
   "outputs": [],
   "source": [
    "import math\n",
    "def getRootsOfUnity(n):\n",
    "    assert n >= 2;\n",
    "    angles = [(2*math.pi*k)/n for k in range(0, n)]\n",
    "    Wn = [math.cos(angle) + math.sin(angle)*1j for angle in angles]\n",
    "    return Wn"
   ]
  },
  {
   "cell_type": "code",
   "execution_count": 8,
   "id": "1036f5f9",
   "metadata": {},
   "outputs": [
    {
     "name": "stdout",
     "output_type": "stream",
     "text": [
      "[(1+0j), (-1+1.2246467991473532e-16j)]\n",
      "[(1+0j), (-0.4999999999999998+0.8660254037844388j), (-0.5000000000000004-0.8660254037844384j)]\n",
      "[(1+0j), (6.123233995736766e-17+1j), (-1+1.2246467991473532e-16j), (-1.8369701987210297e-16-1j)]\n",
      "[(1+0j), (0.30901699437494745+0.9510565162951535j), (-0.8090169943749473+0.5877852522924732j), (-0.8090169943749475-0.587785252292473j), (0.30901699437494723-0.9510565162951536j)]\n",
      "[(1+0j), (0.5000000000000001+0.8660254037844386j), (-0.4999999999999998+0.8660254037844388j), (-1+1.2246467991473532e-16j), (-0.5000000000000004-0.8660254037844384j), (0.5-0.8660254037844386j)]\n",
      "[(1+0j), (0.8660254037844387+0.49999999999999994j), (0.5000000000000001+0.8660254037844386j), (6.123233995736766e-17+1j), (-0.4999999999999998+0.8660254037844388j), (-0.8660254037844387+0.49999999999999994j), (-1+1.2246467991473532e-16j), (-0.8660254037844388-0.4999999999999998j), (-0.5000000000000004-0.8660254037844384j), (-1.8369701987210297e-16-1j), (0.5-0.8660254037844386j), (0.8660254037844384-0.5000000000000004j)]\n"
     ]
    }
   ],
   "source": [
    "print(getRootsOfUnity(2))\n",
    "print(getRootsOfUnity(3))\n",
    "print(getRootsOfUnity(4))\n",
    "print(getRootsOfUnity(5))\n",
    "print(getRootsOfUnity(6))\n",
    "print(getRootsOfUnity(12))"
   ]
  },
  {
   "cell_type": "code",
   "execution_count": 12,
   "id": "3e4b22ce",
   "metadata": {},
   "outputs": [],
   "source": [
    "def computeNaiveFFT(seq):\n",
    "    n = len(seq)\n",
    "    fftSeq = []\n",
    "    w = 1\n",
    "    wn = math.cos(2*math.pi/n) + math.sin(2*math.pi/n)*1j;\n",
    "    for j in range(n):\n",
    "        aj = 0\n",
    "        wj = 1\n",
    "        for k in range(n):\n",
    "            aj = aj + wj*seq[k] \n",
    "            wj = wj * w;\n",
    "        fftSeq.append(aj)\n",
    "        w = w * wn\n",
    "    return fftSeq"
   ]
  },
  {
   "cell_type": "code",
   "execution_count": 13,
   "id": "41175d9f",
   "metadata": {},
   "outputs": [
    {
     "name": "stdout",
     "output_type": "stream",
     "text": [
      "[4.0, (-2.220446049250313e-16-2.220446049250313e-16j), (-3.552713678800501e-15-3.999999999999999j), (9.992007221626409e-16+2.220446049250313e-15j), (4-2.220446049250313e-15j), (-1.4432899320127035e-15+3.774758283725532e-15j), (7.105427357601002e-15+4.000000000000002j), (2.220446049250313e-15-8.881784197001252e-16j)]\n"
     ]
    }
   ],
   "source": [
    "seq = [1.0, -1.0, 1.0, 1.0, 1.0, -1.0,1.0, 1.0]\n",
    "print(computeNaiveFFT(seq))"
   ]
  },
  {
   "cell_type": "code",
   "execution_count": 14,
   "id": "b18fd80d",
   "metadata": {},
   "outputs": [],
   "source": [
    "def computeNaiveFFT(seq):\n",
    "    n = len(seq)\n",
    "    wn = (math.cos(2*math.pi/n) + math.sin(2*math.pi/n)*1j);\n",
    "    fftSeq = []\n",
    "    w = 1;\n",
    "    for j in range(n):\n",
    "        aj = 0\n",
    "        wj = 1\n",
    "        for k in range(n):\n",
    "            aj = aj + wj * seq[k]\n",
    "            wj = wj * w\n",
    "            \n",
    "        fftSeq.append(aj)\n",
    "        w = wn * w\n",
    "    return fftSeq"
   ]
  },
  {
   "cell_type": "code",
   "execution_count": 15,
   "id": "72808845",
   "metadata": {},
   "outputs": [
    {
     "name": "stdout",
     "output_type": "stream",
     "text": [
      "[4.0, (-2.220446049250313e-16-2.220446049250313e-16j), (-3.552713678800501e-15-3.999999999999999j), (9.992007221626409e-16+2.220446049250313e-15j), (4-2.220446049250313e-15j), (-1.4432899320127035e-15+3.774758283725532e-15j), (7.105427357601002e-15+4.000000000000002j), (2.220446049250313e-15-8.881784197001252e-16j)]\n"
     ]
    }
   ],
   "source": [
    "seq = [1.0, -1.0, 1.0, 1.0, 1.0, -1.0,1.0, 1.0]\n",
    "print(computeNaiveFFT(seq))"
   ]
  },
  {
   "cell_type": "code",
   "execution_count": 34,
   "id": "9a64f839",
   "metadata": {},
   "outputs": [],
   "source": [
    "def FFT(seq):\n",
    "    if len(seq) == 1:\n",
    "        return seq\n",
    "    else:\n",
    "        n = len(seq)\n",
    "        print(n)\n",
    "        assert n % 2 == 0\n",
    "        wn = math.cos(2*math.pi/n) + math.sin(2*math.pi/n) * 1j\n",
    "        \n",
    "        aeven = [seq[2*i] for i in range(n // 2)]\n",
    "        aodd = [seq[2*i+1] for i in range(n // 2)]\n",
    "        \n",
    "        s1 = FFT(aeven)\n",
    "        s2 = FFT(aodd)\n",
    "        \n",
    "        fftRet = [0]*n\n",
    "        w = 1\n",
    "        for k in range(n // 2):\n",
    "            \n",
    "            fftRet[k] = s1[k] + w * s2[k]\n",
    "            fftRet[k + n // 2] = s1[k] - w*s2[k]\n",
    "            w = wn * w\n",
    "        \n",
    "        return fftRet"
   ]
  },
  {
   "cell_type": "code",
   "execution_count": 35,
   "id": "ea72448e",
   "metadata": {},
   "outputs": [
    {
     "name": "stdout",
     "output_type": "stream",
     "text": [
      "8\n",
      "4\n",
      "2\n",
      "2\n",
      "4\n",
      "2\n",
      "2\n",
      "[-2.0, (0.5857864376269049-0.5857864376269049j), (-4.440892098500626e-16-2j), (3.4142135623730954+3.414213562373095j), 2.0, (3.414213562373095-3.414213562373095j), (4.440892098500626e-16+2j), (0.5857864376269046+0.5857864376269053j)]\n"
     ]
    }
   ],
   "source": [
    "seq = [1.0, -1.0, -1.0, 1.0, -1.0, -1.0,1.0, -1.0]\n",
    "fft_seq = FFT(seq)\n",
    "print(fft_seq)"
   ]
  },
  {
   "cell_type": "code",
   "execution_count": 52,
   "id": "b39c968d",
   "metadata": {},
   "outputs": [],
   "source": [
    "def inverseFFT(seq):\n",
    "    if len(seq) == 1:\n",
    "        return seq\n",
    "    else:\n",
    "        n = len(seq)\n",
    "        assert n % 2 == 0\n",
    "        wn = math.cos(2*math.pi/n) - math.sin(2*math.pi/n)*1j;\n",
    "        \n",
    "        aeven = [seq[2*i] for i in range(n // 2)]\n",
    "        aodd = [seq[2*i+1] for i in range(n // 2)]\n",
    "        \n",
    "        s1 = inverseFFT(aeven)\n",
    "        s2 = inverseFFT(aodd)\n",
    "        w = 1\n",
    "        fft_ret = [0]*n\n",
    "        \n",
    "        for k in range(n // 2):\n",
    "            fft_ret[k] = 0.5* (s1[k] + w * s2[k])\n",
    "            fft_ret[k+n//2] = 0.5 * (s1[k] - w * s2[k])\n",
    "            w = w * wn\n",
    "        return fft_ret"
   ]
  },
  {
   "cell_type": "code",
   "execution_count": 53,
   "id": "6a71fa04",
   "metadata": {},
   "outputs": [
    {
     "name": "stdout",
     "output_type": "stream",
     "text": [
      "8\n",
      "4\n",
      "2\n",
      "2\n",
      "4\n",
      "2\n",
      "2\n",
      "[-2.0, (0.5857864376269049-0.5857864376269049j), (-4.440892098500626e-16-2j), (3.4142135623730954+3.414213562373095j), 2.0, (3.414213562373095-3.414213562373095j), (4.440892098500626e-16+2j), (0.5857864376269046+0.5857864376269053j)]\n",
      "[(1+0j), (-1+1.9015095496430594e-18j), (-1-2.220446049250313e-16j), (1+1.416384724411995e-16j), (-1+0j), (-0.9999999999999999+1.5891075541802056e-16j), (1+2.220446049250313e-16j), (-1-3.0245073740886313e-16j)]\n"
     ]
    }
   ],
   "source": [
    "seq = [1.0, -1.0, -1.0, 1.0, -1.0, -1.0,1.0, -1.0]\n",
    "fft_seq = FFT(seq)\n",
    "print(fft_seq)\n",
    "ift_seq = inverseFFT(fft_seq)\n",
    "print(ift_seq)"
   ]
  },
  {
   "cell_type": "code",
   "execution_count": null,
   "id": "af68767a",
   "metadata": {},
   "outputs": [],
   "source": []
  }
 ],
 "metadata": {
  "kernelspec": {
   "display_name": "Python 3",
   "language": "python",
   "name": "python3"
  },
  "language_info": {
   "codemirror_mode": {
    "name": "ipython",
    "version": 3
   },
   "file_extension": ".py",
   "mimetype": "text/x-python",
   "name": "python",
   "nbconvert_exporter": "python",
   "pygments_lexer": "ipython3",
   "version": "3.8.8"
  }
 },
 "nbformat": 4,
 "nbformat_minor": 5
}
