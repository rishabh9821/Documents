{
 "cells": [
  {
   "cell_type": "code",
   "execution_count": 79,
   "metadata": {},
   "outputs": [],
   "source": [
    "def convertToBinary(num):\n",
    "    assert num >=0\n",
    "    if (num == 0):\n",
    "        return [0]\n",
    "    else:\n",
    "        binaryList = []\n",
    "        while num > 0:\n",
    "            binaryList.append(num % 2)\n",
    "            num = num // 2\n",
    "        return binaryList\n",
    "    \n",
    "def convertToDecimal(binaryList):\n",
    "    actNum = 0\n",
    "    i = 0\n",
    "    print(binaryList)\n",
    "    for index in binaryList:\n",
    "        actNum = actNum + (2**i)*index\n",
    "        i = i + 1\n",
    "    return actNum"
   ]
  },
  {
   "cell_type": "code",
   "execution_count": 82,
   "metadata": {},
   "outputs": [
    {
     "name": "stdout",
     "output_type": "stream",
     "text": [
      "6 = [0, 1, 1]\n",
      "23 = [1, 1, 1, 0, 1]\n",
      "46 = [0, 1, 1, 1, 0, 1]\n",
      "128 = [0, 0, 0, 0, 0, 0, 0, 1]\n",
      "71 = [1, 1, 1, 0, 0, 0, 1]\n",
      "[1, 0, 1, 1, 0, 1]\n",
      "45\n",
      "[0, 1, 1, 0, 1]\n",
      "22\n"
     ]
    }
   ],
   "source": [
    "print(f'6 = {convertToBinary(6)}')\n",
    "print(f'23 = {convertToBinary(23)}')\n",
    "print(f'46 = {convertToBinary(46)}')\n",
    "print(f'128 = {convertToBinary(128)}')\n",
    "print(f'71 = {convertToBinary(71)}')\n",
    "print(convertToDecimal([1, 0, 1, 1, 0, 1])) # should be 45\n",
    "print(convertToDecimal([0, 1, 1, 0, 1])) # should be 22"
   ]
  },
  {
   "cell_type": "code",
   "execution_count": 184,
   "metadata": {},
   "outputs": [],
   "source": [
    "def bitwiseAdd(ai,bi,ci):\n",
    "    if ai == 0:\n",
    "        if bi == 0:\n",
    "            return (ci,0)\n",
    "        else:\n",
    "            return (1-ci,ci)\n",
    "    else:\n",
    "        if bi == 0:\n",
    "            return (1-ci,ci)\n",
    "        else:\n",
    "            return (ci,1)\n",
    "\n",
    "def add(A,B):\n",
    "    (n,m) = len(A), len(B)\n",
    "    carry = 0\n",
    "    addArray = []\n",
    "    for index in range(max(n,m)):\n",
    "        ai = A[index] if index < n else 0\n",
    "        bi = B[index] if index < m else 0\n",
    "        (ci,carry) = bitwiseAdd(ai,bi,carry)\n",
    "        addArray.append(ci)\n",
    "    if carry == 1:\n",
    "        addArray.append(carry)\n",
    "    return addArray\n",
    "\n",
    "def subtract(A,B):\n",
    "    n = len(A)\n",
    "    k = len(A) - len(B)\n",
    "    bcomp = [(1-elt) for elt in B] + [1]*k\n",
    "\n",
    "    bcomp2 = add(bcomp,[1])\n",
    "\n",
    "    r = add(A,bcomp2)\n",
    "    return r[0:n]"
   ]
  },
  {
   "cell_type": "code",
   "execution_count": 185,
   "metadata": {},
   "outputs": [
    {
     "name": "stdout",
     "output_type": "stream",
     "text": [
      "[0, 1, 1, 1, 1]\n",
      "[1, 0, 1, 1]\n",
      "[1, 0, 0, 1]\n",
      "[1, 0, 1, 0, 1, 1, 0, 1]\n"
     ]
    }
   ],
   "source": [
    "print(add([1,0,1,1,0], [1, 0, 0, 0, 1])) # should be 0, 1, 1, 1, 1\n",
    "print(add([0, 1, 1], [1, 1, 1])) # should be 1, 0, 1, 1\n",
    "print(add([0, 1], [1, 1, 1])) # should be 1, 0, 0, 1\n",
    "print(add([0], [1,0,1,0,1,1,0,1])) # should be 1, 0, 1, 0, 1, 1, 0, 1"
   ]
  },
  {
   "cell_type": "code",
   "execution_count": 186,
   "metadata": {},
   "outputs": [
    {
     "name": "stdout",
     "output_type": "stream",
     "text": [
      "[0, 1, 1]\n"
     ]
    }
   ],
   "source": [
    "print(subtract([1,1,1],[1])) # should be [0, 1, 1]\n",
    "# print(subtract([1,0,1], [0, 1])) # should be [1, 1, 0]\n",
    "# print(subtract([0, 0, 0, 1], [1, 1])) # should be [1, 0, 1, 0]\n",
    "# print(subtract([0, 1, 0, 1], [1, 0, 0, 1])) # should be [1, 0, 0, 0]\n",
    "# print(subtract([0, 1, 0, 1, 1, 1, 0, 1],[0]))"
   ]
  },
  {
   "cell_type": "code",
   "execution_count": 187,
   "metadata": {},
   "outputs": [],
   "source": [
    "def gradeSchoolMultiplication(A,B):\n",
    "    (n,m) = len(A), len(B)\n",
    "    tmp = A\n",
    "    res = [0]\n",
    "    for bit in B:\n",
    "        if bit == 1:\n",
    "            res = add(res,tmp)\n",
    "        tmp = [0]+tmp\n",
    "    return res"
   ]
  },
  {
   "cell_type": "code",
   "execution_count": 188,
   "metadata": {},
   "outputs": [
    {
     "name": "stdout",
     "output_type": "stream",
     "text": [
      "[0, 1, 0, 1]\n",
      "[0, 1, 0, 0, 1]\n",
      "[0, 0, 1, 0, 1]\n",
      "[0, 0, 0, 1, 0, 1]\n"
     ]
    }
   ],
   "source": [
    "print(gradeSchoolMultiplication([1, 0, 1], [0, 1])) #  should be 0, 1, 0, 1\n",
    "print(gradeSchoolMultiplication([0, 1, 1], [1, 1])) # should be 0, 1, 0, 0 , 1\n",
    "print(gradeSchoolMultiplication([0, 0, 1], [1, 0, 1])) # should be 0, 0, 1, 0 , 1\n",
    "print(gradeSchoolMultiplication([0, 0, 0, 1], [1, 0, 1])) # should be 0, 0, 0, 1, 0, 1"
   ]
  },
  {
   "cell_type": "code",
   "execution_count": 189,
   "metadata": {},
   "outputs": [],
   "source": [
    "def gradeSchoolMultiplication(A,B):\n",
    "    tmp = A\n",
    "    res = [0]\n",
    "    for bits in B:\n",
    "        if bits == 1:\n",
    "            res = add(res,tmp)\n",
    "        tmp = [0]+tmp\n",
    "    return res"
   ]
  },
  {
   "cell_type": "code",
   "execution_count": 190,
   "metadata": {},
   "outputs": [
    {
     "name": "stdout",
     "output_type": "stream",
     "text": [
      "[0, 1, 0, 1]\n",
      "[0, 1, 0, 0, 1]\n",
      "[0, 0, 1, 0, 1]\n",
      "[0, 0, 0, 1, 0, 1]\n"
     ]
    }
   ],
   "source": [
    "print(gradeSchoolMultiplication([1, 0, 1], [0, 1])) #  should be 0, 1, 0, 1\n",
    "print(gradeSchoolMultiplication([0, 1, 1], [1, 1])) # should be 0, 1, 0, 0 , 1\n",
    "print(gradeSchoolMultiplication([0, 0, 1], [1, 0, 1])) # should be 0, 0, 1, 0 , 1\n",
    "print(gradeSchoolMultiplication([0, 0, 0, 1], [1, 0, 1])) # should be 0, 0, 0, 1, 0, 1"
   ]
  },
  {
   "cell_type": "code",
   "execution_count": 199,
   "metadata": {},
   "outputs": [],
   "source": [
    "def pad(a, k):\n",
    "    return  [0]*k + a \n",
    "\n",
    "def karatsubaMultiply(A,B):\n",
    "    (n,m) = len(A),len(B)\n",
    "    if (n <= 2) or (m <= 2):\n",
    "        return gradeSchoolMultiplication(A,B)\n",
    "    else:\n",
    "        midPoint = m // 2\n",
    "        a1 = A[0:midPoint];\n",
    "        a2 = A[midPoint:]\n",
    "        \n",
    "        b1 = B[0:midPoint]\n",
    "        b2 = B[midPoint:]\n",
    "        \n",
    "        r1 = karatsubaMultiply(a1,b1)\n",
    "        r4 = karatsubaMultiply(a2,b2)\n",
    "        \n",
    "        r3 = karatsubaMultiply(add(a1,a2),add(b1,b2));\n",
    "        r3 = subtract(subtract(r3,r1),r4)\n",
    "        \n",
    "        \n",
    "        r4 = pad(r4, 2*midPoint)\n",
    "        r3 = pad(r3,midPoint)\n",
    "        \n",
    "        total = add(add(r1,r3), r4)\n",
    "        return total"
   ]
  },
  {
   "cell_type": "code",
   "execution_count": 200,
   "metadata": {},
   "outputs": [
    {
     "name": "stdout",
     "output_type": "stream",
     "text": [
      "[0, 0, 0, 1, 0, 1]\n",
      "[0, 0, 1, 0, 1]\n"
     ]
    }
   ],
   "source": [
    "print(karatsubaMultiply([0, 0, 0, 1], [1, 0, 1])) # should be 0, 0, 0, 1, 0, 1\n",
    "print(karatsubaMultiply([0, 0, 1], [1, 0, 1])) # should be 0, 0, 1, 0 , 1"
   ]
  },
  {
   "cell_type": "code",
   "execution_count": null,
   "metadata": {},
   "outputs": [],
   "source": []
  }
 ],
 "metadata": {
  "interpreter": {
   "hash": "31f2aee4e71d21fbe5cf8b01ff0e069b9275f58929596ceb00d14d90e3e16cd6"
  },
  "kernelspec": {
   "display_name": "Python 3",
   "language": "python",
   "name": "python3"
  },
  "language_info": {
   "codemirror_mode": {
    "name": "ipython",
    "version": 3
   },
   "file_extension": ".py",
   "mimetype": "text/x-python",
   "name": "python",
   "nbconvert_exporter": "python",
   "pygments_lexer": "ipython3",
   "version": "3.8.8"
  }
 },
 "nbformat": 4,
 "nbformat_minor": 2
}
