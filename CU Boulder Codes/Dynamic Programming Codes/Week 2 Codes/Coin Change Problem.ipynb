{
 "cells": [
  {
   "cell_type": "code",
   "execution_count": 3,
   "id": "556ab8ef",
   "metadata": {},
   "outputs": [],
   "source": [
    "## Recurrence\n",
    "\n",
    "def minCoins(T, coins):\n",
    "    if T == 0:\n",
    "        return 0\n",
    "    elif T < 0:\n",
    "        return 100000000\n",
    "    else:\n",
    "        options = [1 + minCoins(T - coins[i], coins) for i in range(len(coins))]\n",
    "        finalOption = min(options)\n",
    "        return finalOption"
   ]
  },
  {
   "cell_type": "code",
   "execution_count": 4,
   "id": "8f59e6f5",
   "metadata": {},
   "outputs": [
    {
     "name": "stdout",
     "output_type": "stream",
     "text": [
      "2\n",
      "2\n",
      "4\n"
     ]
    }
   ],
   "source": [
    "lst0 = [1, 4, 7, 9, 16, 43]\n",
    "\n",
    "print(minCoins(17, lst0))\n",
    "print(minCoins(23, lst0))\n",
    "# CAUTION: This will take a minute or so to run!!  You may interupt it.\n",
    "print(minCoins(42, lst0))"
   ]
  },
  {
   "cell_type": "code",
   "execution_count": 30,
   "id": "6626c750",
   "metadata": {},
   "outputs": [
    {
     "data": {
      "text/plain": [
       "([1, 16], [0, 1, 2, 3, 1, 2, 3, 1, 2, 1, 2, 2, 3, 2, 2, 3, 1, 2])"
      ]
     },
     "execution_count": 30,
     "metadata": {},
     "output_type": "execute_result"
    }
   ],
   "source": [
    "def minCoinsRec(T,coins):\n",
    "    memoTable = [0] * (T + 1)\n",
    "    decisionTable = [0] * (T + 1)\n",
    "    \n",
    "    for index in range(1, T + 1):\n",
    "        options = [1 + memoTable[index - coins[j]] for j in range(len(coins)) if index - coins[j] >= 0]\n",
    "        options.append(1000000)\n",
    "        memoTable[index] = min(options)\n",
    "        decisionTable[index] = options.index(memoTable[index])\n",
    "        \n",
    "    runningTarget = T\n",
    "    optimalCoins = []\n",
    "    while runningTarget > 0:\n",
    "        optimalCoins.append(coins[decisionTable[runningTarget]])\n",
    "        runningTarget = runningTarget - coins[decisionTable[runningTarget]]\n",
    "        \n",
    "    return optimalCoins, memoTable\n",
    "\n",
    "lst0 = [1, 4, 7, 9, 16, 43]\n",
    "\n",
    "minCoinsRec(17, lst0)"
   ]
  },
  {
   "cell_type": "code",
   "execution_count": null,
   "id": "7d174b16",
   "metadata": {},
   "outputs": [],
   "source": []
  },
  {
   "cell_type": "code",
   "execution_count": null,
   "id": "c945d4f0",
   "metadata": {},
   "outputs": [],
   "source": []
  }
 ],
 "metadata": {
  "kernelspec": {
   "display_name": "Python 3",
   "language": "python",
   "name": "python3"
  },
  "language_info": {
   "codemirror_mode": {
    "name": "ipython",
    "version": 3
   },
   "file_extension": ".py",
   "mimetype": "text/x-python",
   "name": "python",
   "nbconvert_exporter": "python",
   "pygments_lexer": "ipython3",
   "version": "3.8.8"
  }
 },
 "nbformat": 4,
 "nbformat_minor": 5
}
