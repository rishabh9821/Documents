{
 "cells": [
  {
   "cell_type": "code",
   "execution_count": 55,
   "id": "a48aaad5",
   "metadata": {},
   "outputs": [],
   "source": [
    "def knapsackProblem(W, itemWeights, prices):\n",
    "    memoTable = [0] * (W + 1)\n",
    "    decisionTable = [0] * (W + 1)\n",
    "    \n",
    "    assert len(itemWeights) == len(prices)\n",
    "    \n",
    "    k = len(prices)\n",
    "    \n",
    "    for w in range(1,W + 1):\n",
    "        for index in range(k):\n",
    "            if w - itemWeights[index] >= 0:\n",
    "                optimalVal = prices[index] + memoTable[w - itemWeights[index]]\n",
    "                decision = index\n",
    "                if optimalVal > memoTable[w]:\n",
    "                    memoTable[w] = optimalVal\n",
    "                    decisionTable[w] = decision\n",
    "    \n",
    "    weightRemaining = W\n",
    "    optimalArr = []\n",
    "    while weightRemaining > 0:\n",
    "        item = decisionTable[weightRemaining]\n",
    "        weightRemaining = weightRemaining - itemWeights[item]\n",
    "        optimalArr.append(itemWeights[item])\n",
    "        \n",
    "    \n",
    "    \n",
    "    return memoTable[W], optimalArr"
   ]
  },
  {
   "cell_type": "code",
   "execution_count": 56,
   "id": "cf20e192",
   "metadata": {
    "scrolled": false
   },
   "outputs": [
    {
     "data": {
      "text/plain": [
       "(433.4, [20, 90, 90])"
      ]
     },
     "execution_count": 56,
     "metadata": {},
     "output_type": "execute_result"
    }
   ],
   "source": [
    "W = 200\n",
    "weights = [1, 5, 20, 35, 90]\n",
    "values = [2, 10.5, 43, 75, 195.2]\n",
    "\n",
    "knapsackProblem(W, weights, values)"
   ]
  },
  {
   "cell_type": "code",
   "execution_count": null,
   "id": "24b695c5",
   "metadata": {},
   "outputs": [],
   "source": []
  },
  {
   "cell_type": "code",
   "execution_count": null,
   "id": "8407ffc4",
   "metadata": {},
   "outputs": [],
   "source": []
  },
  {
   "cell_type": "code",
   "execution_count": null,
   "id": "a5b0276f",
   "metadata": {},
   "outputs": [],
   "source": []
  }
 ],
 "metadata": {
  "kernelspec": {
   "display_name": "Python 3",
   "language": "python",
   "name": "python3"
  },
  "language_info": {
   "codemirror_mode": {
    "name": "ipython",
    "version": 3
   },
   "file_extension": ".py",
   "mimetype": "text/x-python",
   "name": "python",
   "nbconvert_exporter": "python",
   "pygments_lexer": "ipython3",
   "version": "3.8.8"
  }
 },
 "nbformat": 4,
 "nbformat_minor": 5
}
