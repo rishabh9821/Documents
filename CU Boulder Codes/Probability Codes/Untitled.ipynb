{
 "cells": [
  {
   "cell_type": "code",
   "execution_count": 8,
   "id": "831bfcc6",
   "metadata": {},
   "outputs": [],
   "source": [
    "import math\n",
    "math.factorial(3)\n",
    "\n",
    "def choose(var1, var2):\n",
    "    retVar = math.factorial(var1)/(math.factorial(var2)*math.factorial(var1 - var2))\n",
    "    return retVar"
   ]
  },
  {
   "cell_type": "code",
   "execution_count": 10,
   "id": "7d624a71",
   "metadata": {},
   "outputs": [
    {
     "data": {
      "text/plain": [
       "0.9976139105910344"
      ]
     },
     "execution_count": 10,
     "metadata": {},
     "output_type": "execute_result"
    }
   ],
   "source": [
    "const = 20\n",
    "sum = 0\n",
    "prob1 = .9\n",
    "prob2 = .1\n",
    "for index1 in range(,21):\n",
    "    index2 = const - index1\n",
    "    sum = sum + choose(const, index1)*(prob1**index1)*(prob2**index2)\n",
    "sum"
   ]
  },
  {
   "cell_type": "code",
   "execution_count": 11,
   "id": "661bc431",
   "metadata": {},
   "outputs": [
    {
     "data": {
      "text/plain": [
       "5864443200.0"
      ]
     },
     "execution_count": 11,
     "metadata": {},
     "output_type": "execute_result"
    }
   ],
   "source": [
    "math.factorial(45)/math.factorial(39)"
   ]
  },
  {
   "cell_type": "code",
   "execution_count": 12,
   "id": "400c68e8",
   "metadata": {},
   "outputs": [
    {
     "data": {
      "text/plain": [
       "0.004758712643000788"
      ]
     },
     "execution_count": 12,
     "metadata": {},
     "output_type": "execute_result"
    }
   ],
   "source": [
    "choose(20,6)/choose(45,6)"
   ]
  },
  {
   "cell_type": "code",
   "execution_count": 13,
   "id": "99e004e1",
   "metadata": {},
   "outputs": [
    {
     "data": {
      "text/plain": [
       "8145060.0"
      ]
     },
     "execution_count": 13,
     "metadata": {},
     "output_type": "execute_result"
    }
   ],
   "source": [
    "choose(45,6)"
   ]
  },
  {
   "cell_type": "code",
   "execution_count": 14,
   "id": "4e10546d",
   "metadata": {},
   "outputs": [
    {
     "data": {
      "text/plain": [
       "0.004758712643000788"
      ]
     },
     "execution_count": 14,
     "metadata": {},
     "output_type": "execute_result"
    }
   ],
   "source": [
    "choose(20,6)/choose(45,6)"
   ]
  },
  {
   "cell_type": "code",
   "execution_count": 16,
   "id": "da8572b1",
   "metadata": {},
   "outputs": [
    {
     "data": {
      "text/plain": [
       "0.005398978030855512"
      ]
     },
     "execution_count": 16,
     "metadata": {},
     "output_type": "execute_result"
    }
   ],
   "source": [
    "var = choose(20,6) + choose(15,6) + choose(10,6)\n",
    "var/choose(45,6)"
   ]
  },
  {
   "cell_type": "code",
   "execution_count": 17,
   "id": "f830b305",
   "metadata": {},
   "outputs": [
    {
     "data": {
      "text/plain": [
       "0.29932376188757354"
      ]
     },
     "execution_count": 17,
     "metadata": {},
     "output_type": "execute_result"
    }
   ],
   "source": [
    "vars = [25,30,35,10,15,20]\n",
    "sum = 0\n",
    "for var in vars:\n",
    "    sum = sum + choose(var,6)/choose(45,6)\n",
    "sum"
   ]
  },
  {
   "cell_type": "code",
   "execution_count": 33,
   "id": "80f63d86",
   "metadata": {},
   "outputs": [],
   "source": [
    "def function(n):\n",
    "    return (1-(math.factorial(364)/(math.factorial(365-n)*(365**(n-1)))))"
   ]
  },
  {
   "cell_type": "code",
   "execution_count": 46,
   "id": "8a41072f",
   "metadata": {},
   "outputs": [
    {
     "name": "stdout",
     "output_type": "stream",
     "text": [
      "0.5072972343239854\n",
      "23\n"
     ]
    }
   ],
   "source": [
    "for n in range(1,366):\n",
    "    val = function(n)\n",
    "    if val > .5:\n",
    "        print(val)\n",
    "        print(n)\n",
    "        break"
   ]
  },
  {
   "cell_type": "code",
   "execution_count": 52,
   "id": "f42c19f4",
   "metadata": {},
   "outputs": [],
   "source": [
    "n = range(1,50)\n",
    "arr = []\n",
    "for i in n:\n",
    "    val = function(i)\n",
    "    arr.append(val)"
   ]
  },
  {
   "cell_type": "code",
   "execution_count": 57,
   "id": "ed7ff92e",
   "metadata": {},
   "outputs": [
    {
     "data": {
      "image/png": "[encoded data removed]",
      "text/plain": [
       "<Figure size 432x288 with 1 Axes>"
      ]
     },
     "metadata": {
      "needs_background": "light"
     },
     "output_type": "display_data"
    }
   ],
   "source": [
    "import matplotlib.pyplot as plt\n",
    "\n",
    "plt.plot(n,arr,'-o')\n",
    "plt.xlabel('Number of Students')\n",
    "plt.ylabel('Probability')\n",
    "plt.title('Probability Distribution')\n",
    "plt.savefig('ProbDist.jpeg')"
   ]
  },
  {
   "cell_type": "code",
   "execution_count": null,
   "id": "a182387d",
   "metadata": {},
   "outputs": [],
   "source": []
  }
 ],
 "metadata": {
  "kernelspec": {
   "display_name": "Python 3",
   "language": "python",
   "name": "python3"
  },
  "language_info": {
   "codemirror_mode": {
    "name": "ipython",
    "version": 3
   },
   "file_extension": ".py",
   "mimetype": "text/x-python",
   "name": "python",
   "nbconvert_exporter": "python",
   "pygments_lexer": "ipython3",
   "version": "3.8.8"
  }
 },
 "nbformat": 4,
 "nbformat_minor": 5
}
